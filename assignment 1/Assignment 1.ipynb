{
 "metadata": {
  "name": "",
  "signature": "sha256:840d487725839a8e037f163935558e5f5e3d8d72ebcc714314d989db13dd47eb"
 },
 "nbformat": 3,
 "nbformat_minor": 0,
 "worksheets": [
  {
   "cells": [
    {
     "cell_type": "code",
     "collapsed": false,
     "input": [
      "#fix csv to eliminate extra spaces between commas manually in file"
     ],
     "language": "python",
     "metadata": {},
     "outputs": [],
     "prompt_number": 67
    },
    {
     "cell_type": "code",
     "collapsed": false,
     "input": [
      "import pandas as pd\n",
      "import dateutil"
     ],
     "language": "python",
     "metadata": {},
     "outputs": [],
     "prompt_number": 68
    },
    {
     "cell_type": "code",
     "collapsed": false,
     "input": [
      "df = pd.read_csv(\"/home/matthew/Documents/School/2014-2016 ASU MS Bioinformatics/2015 Spring/BMI 591/assignment 1/obs.csv\")\n",
      "df"
     ],
     "language": "python",
     "metadata": {},
     "outputs": [
      {
       "html": [
        "<div style=\"max-height:1000px;max-width:1500px;overflow:auto;\">\n",
        "<table border=\"1\" class=\"dataframe\">\n",
        "  <thead>\n",
        "    <tr style=\"text-align: right;\">\n",
        "      <th></th>\n",
        "      <th>patientId</th>\n",
        "      <th>observationId</th>\n",
        "      <th>observationDate</th>\n",
        "      <th>observationType</th>\n",
        "      <th>observationValue</th>\n",
        "    </tr>\n",
        "  </thead>\n",
        "  <tbody>\n",
        "    <tr>\n",
        "      <th>0</th>\n",
        "      <td> mrn001</td>\n",
        "      <td> o1</td>\n",
        "      <td> 2015-01-23</td>\n",
        "      <td> BODY_TEMP</td>\n",
        "      <td> 37.5</td>\n",
        "    </tr>\n",
        "    <tr>\n",
        "      <th>1</th>\n",
        "      <td> mrn001</td>\n",
        "      <td> o1</td>\n",
        "      <td> 2015-01-21</td>\n",
        "      <td> BODY_TEMP</td>\n",
        "      <td> 37.0</td>\n",
        "    </tr>\n",
        "    <tr>\n",
        "      <th>2</th>\n",
        "      <td> mrn001</td>\n",
        "      <td> o1</td>\n",
        "      <td> 2015-01-22</td>\n",
        "      <td> BODY_TEMP</td>\n",
        "      <td> 36.8</td>\n",
        "    </tr>\n",
        "    <tr>\n",
        "      <th>3</th>\n",
        "      <td> mrn001</td>\n",
        "      <td> o1</td>\n",
        "      <td> 2015-01-25</td>\n",
        "      <td> BODY_TEMP</td>\n",
        "      <td> 39.0</td>\n",
        "    </tr>\n",
        "  </tbody>\n",
        "</table>\n",
        "</div>"
       ],
       "metadata": {},
       "output_type": "pyout",
       "prompt_number": 69,
       "text": [
        "  patientId observationId observationDate observationType  observationValue\n",
        "0    mrn001            o1      2015-01-23       BODY_TEMP              37.5\n",
        "1    mrn001            o1      2015-01-21       BODY_TEMP              37.0\n",
        "2    mrn001            o1      2015-01-22       BODY_TEMP              36.8\n",
        "3    mrn001            o1      2015-01-25       BODY_TEMP              39.0"
       ]
      }
     ],
     "prompt_number": 69
    },
    {
     "cell_type": "code",
     "collapsed": false,
     "input": [
      "df2 = df[df['observationDate'] > \"2015-01-22\"]\n",
      "df2 = df2.sort('observationDate', ascending=False)\n",
      "df2"
     ],
     "language": "python",
     "metadata": {},
     "outputs": [
      {
       "html": [
        "<div style=\"max-height:1000px;max-width:1500px;overflow:auto;\">\n",
        "<table border=\"1\" class=\"dataframe\">\n",
        "  <thead>\n",
        "    <tr style=\"text-align: right;\">\n",
        "      <th></th>\n",
        "      <th>patientId</th>\n",
        "      <th>observationId</th>\n",
        "      <th>observationDate</th>\n",
        "      <th>observationType</th>\n",
        "      <th>observationValue</th>\n",
        "    </tr>\n",
        "  </thead>\n",
        "  <tbody>\n",
        "    <tr>\n",
        "      <th>3</th>\n",
        "      <td> mrn001</td>\n",
        "      <td> o1</td>\n",
        "      <td> 2015-01-25</td>\n",
        "      <td> BODY_TEMP</td>\n",
        "      <td> 39.0</td>\n",
        "    </tr>\n",
        "    <tr>\n",
        "      <th>0</th>\n",
        "      <td> mrn001</td>\n",
        "      <td> o1</td>\n",
        "      <td> 2015-01-23</td>\n",
        "      <td> BODY_TEMP</td>\n",
        "      <td> 37.5</td>\n",
        "    </tr>\n",
        "  </tbody>\n",
        "</table>\n",
        "</div>"
       ],
       "metadata": {},
       "output_type": "pyout",
       "prompt_number": 73,
       "text": [
        "  patientId observationId observationDate observationType  observationValue\n",
        "3    mrn001            o1      2015-01-25       BODY_TEMP              39.0\n",
        "0    mrn001            o1      2015-01-23       BODY_TEMP              37.5"
       ]
      }
     ],
     "prompt_number": 73
    }
   ],
   "metadata": {}
  }
 ]
}